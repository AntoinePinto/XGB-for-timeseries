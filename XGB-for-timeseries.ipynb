{
  "cells": [
    {
      "cell_type": "code",
      "source": [
        "!pip install prophet\n",
        "!pip install neuralprophet[live]"
      ],
      "metadata": {
        "id": "ph7drxa4NMik"
      },
      "execution_count": null,
      "outputs": []
    },
    {
      "cell_type": "code",
      "execution_count": 2,
      "metadata": {
        "id": "DUf35Dui0fEV"
      },
      "outputs": [],
      "source": [
        "import random\n",
        "import pickle\n",
        "\n",
        "import matplotlib.pyplot as plt\n",
        "import pandas as pd\n",
        "import prophet\n",
        "import numpy as np\n",
        "import seaborn as sns\n",
        "import xgboost as xgb\n",
        "\n",
        "from fbprophet import Prophet\n",
        "from google.colab import drive\n",
        "from neuralprophet import NeuralProphet\n",
        "from prophet.diagnostics import cross_validation, performance_metrics\n",
        "from random import shuffle\n",
        "from sklearn.multioutput import MultiOutputRegressor\n",
        "from sklearn.preprocessing import MinMaxScaler\n",
        "from datetime import datetime, timedelta"
      ]
    },
    {
      "cell_type": "markdown",
      "metadata": {
        "id": "KRm1G_n80lMe"
      },
      "source": [
        "Some parameters are needed.\n",
        "\n",
        "\n",
        "*   `DATA_PATH` : path to the data (format .csv)\n",
        "*   `N_PERIOD_OUTPUT` : number of periods to be predicted\n",
        "*   `N_PERIOD_INPUT` : maximum lag for the target variable as feature\n",
        "*   `CUT_TRAINING` : obervation number to split the train and test sets.\n",
        "\n",
        "In our case, we choose to set `N_PERIOD_OUTPUT` and `N_PERIOD_INPUT` to 24 because we work with hourly time series.\n",
        "\n"
      ]
    },
    {
      "cell_type": "code",
      "execution_count": 3,
      "metadata": {
        "id": "BiT8KKrM0nFi"
      },
      "outputs": [],
      "source": [
        "DATA_PATH = r'data/traffic.csv'\n",
        "N_PERIOD_OUTPUT = 24\n",
        "N_PERIOD_INPUT = 24\n",
        "CUT_TRAINING = 10392"
      ]
    },
    {
      "cell_type": "markdown",
      "metadata": {
        "id": "BWGa0f-101f4"
      },
      "source": [
        "The dataset `traffic.npy` contains 963 time series. We will only work with the first time series."
      ]
    },
    {
      "cell_type": "code",
      "source": [
        "df = pd.read_csv(DATA_PATH)\n",
        "df.head(5)"
      ],
      "metadata": {
        "id": "acEcESuROCnE",
        "colab": {
          "base_uri": "https://localhost:8080/",
          "height": 206
        },
        "outputId": "cf502968-0361-4c01-cf0a-2fd98b068a6e"
      },
      "execution_count": 4,
      "outputs": [
        {
          "output_type": "execute_result",
          "data": {
            "text/plain": [
              "          y\n",
              "0  0.020933\n",
              "1  0.019333\n",
              "2  0.020200\n",
              "3  0.022450\n",
              "4  0.029283"
            ],
            "text/html": [
              "\n",
              "  <div id=\"df-f8a02af6-b909-49ca-9d65-cb37f30bc45f\">\n",
              "    <div class=\"colab-df-container\">\n",
              "      <div>\n",
              "<style scoped>\n",
              "    .dataframe tbody tr th:only-of-type {\n",
              "        vertical-align: middle;\n",
              "    }\n",
              "\n",
              "    .dataframe tbody tr th {\n",
              "        vertical-align: top;\n",
              "    }\n",
              "\n",
              "    .dataframe thead th {\n",
              "        text-align: right;\n",
              "    }\n",
              "</style>\n",
              "<table border=\"1\" class=\"dataframe\">\n",
              "  <thead>\n",
              "    <tr style=\"text-align: right;\">\n",
              "      <th></th>\n",
              "      <th>y</th>\n",
              "    </tr>\n",
              "  </thead>\n",
              "  <tbody>\n",
              "    <tr>\n",
              "      <th>0</th>\n",
              "      <td>0.020933</td>\n",
              "    </tr>\n",
              "    <tr>\n",
              "      <th>1</th>\n",
              "      <td>0.019333</td>\n",
              "    </tr>\n",
              "    <tr>\n",
              "      <th>2</th>\n",
              "      <td>0.020200</td>\n",
              "    </tr>\n",
              "    <tr>\n",
              "      <th>3</th>\n",
              "      <td>0.022450</td>\n",
              "    </tr>\n",
              "    <tr>\n",
              "      <th>4</th>\n",
              "      <td>0.029283</td>\n",
              "    </tr>\n",
              "  </tbody>\n",
              "</table>\n",
              "</div>\n",
              "      <button class=\"colab-df-convert\" onclick=\"convertToInteractive('df-f8a02af6-b909-49ca-9d65-cb37f30bc45f')\"\n",
              "              title=\"Convert this dataframe to an interactive table.\"\n",
              "              style=\"display:none;\">\n",
              "        \n",
              "  <svg xmlns=\"http://www.w3.org/2000/svg\" height=\"24px\"viewBox=\"0 0 24 24\"\n",
              "       width=\"24px\">\n",
              "    <path d=\"M0 0h24v24H0V0z\" fill=\"none\"/>\n",
              "    <path d=\"M18.56 5.44l.94 2.06.94-2.06 2.06-.94-2.06-.94-.94-2.06-.94 2.06-2.06.94zm-11 1L8.5 8.5l.94-2.06 2.06-.94-2.06-.94L8.5 2.5l-.94 2.06-2.06.94zm10 10l.94 2.06.94-2.06 2.06-.94-2.06-.94-.94-2.06-.94 2.06-2.06.94z\"/><path d=\"M17.41 7.96l-1.37-1.37c-.4-.4-.92-.59-1.43-.59-.52 0-1.04.2-1.43.59L10.3 9.45l-7.72 7.72c-.78.78-.78 2.05 0 2.83L4 21.41c.39.39.9.59 1.41.59.51 0 1.02-.2 1.41-.59l7.78-7.78 2.81-2.81c.8-.78.8-2.07 0-2.86zM5.41 20L4 18.59l7.72-7.72 1.47 1.35L5.41 20z\"/>\n",
              "  </svg>\n",
              "      </button>\n",
              "      \n",
              "  <style>\n",
              "    .colab-df-container {\n",
              "      display:flex;\n",
              "      flex-wrap:wrap;\n",
              "      gap: 12px;\n",
              "    }\n",
              "\n",
              "    .colab-df-convert {\n",
              "      background-color: #E8F0FE;\n",
              "      border: none;\n",
              "      border-radius: 50%;\n",
              "      cursor: pointer;\n",
              "      display: none;\n",
              "      fill: #1967D2;\n",
              "      height: 32px;\n",
              "      padding: 0 0 0 0;\n",
              "      width: 32px;\n",
              "    }\n",
              "\n",
              "    .colab-df-convert:hover {\n",
              "      background-color: #E2EBFA;\n",
              "      box-shadow: 0px 1px 2px rgba(60, 64, 67, 0.3), 0px 1px 3px 1px rgba(60, 64, 67, 0.15);\n",
              "      fill: #174EA6;\n",
              "    }\n",
              "\n",
              "    [theme=dark] .colab-df-convert {\n",
              "      background-color: #3B4455;\n",
              "      fill: #D2E3FC;\n",
              "    }\n",
              "\n",
              "    [theme=dark] .colab-df-convert:hover {\n",
              "      background-color: #434B5C;\n",
              "      box-shadow: 0px 1px 3px 1px rgba(0, 0, 0, 0.15);\n",
              "      filter: drop-shadow(0px 1px 2px rgba(0, 0, 0, 0.3));\n",
              "      fill: #FFFFFF;\n",
              "    }\n",
              "  </style>\n",
              "\n",
              "      <script>\n",
              "        const buttonEl =\n",
              "          document.querySelector('#df-f8a02af6-b909-49ca-9d65-cb37f30bc45f button.colab-df-convert');\n",
              "        buttonEl.style.display =\n",
              "          google.colab.kernel.accessAllowed ? 'block' : 'none';\n",
              "\n",
              "        async function convertToInteractive(key) {\n",
              "          const element = document.querySelector('#df-f8a02af6-b909-49ca-9d65-cb37f30bc45f');\n",
              "          const dataTable =\n",
              "            await google.colab.kernel.invokeFunction('convertToInteractive',\n",
              "                                                     [key], {});\n",
              "          if (!dataTable) return;\n",
              "\n",
              "          const docLinkHtml = 'Like what you see? Visit the ' +\n",
              "            '<a target=\"_blank\" href=https://colab.research.google.com/notebooks/data_table.ipynb>data table notebook</a>'\n",
              "            + ' to learn more about interactive tables.';\n",
              "          element.innerHTML = '';\n",
              "          dataTable['output_type'] = 'display_data';\n",
              "          await google.colab.output.renderOutput(dataTable, element);\n",
              "          const docLink = document.createElement('div');\n",
              "          docLink.innerHTML = docLinkHtml;\n",
              "          element.appendChild(docLink);\n",
              "        }\n",
              "      </script>\n",
              "    </div>\n",
              "  </div>\n",
              "  "
            ]
          },
          "metadata": {},
          "execution_count": 4
        }
      ]
    },
    {
      "cell_type": "markdown",
      "source": [
        "# Model training"
      ],
      "metadata": {
        "id": "HsMYOieNIYDE"
      }
    },
    {
      "cell_type": "markdown",
      "metadata": {
        "id": "7UlnhpcT0eJy"
      },
      "source": [
        "## XGBoost\n"
      ]
    },
    {
      "cell_type": "markdown",
      "source": [
        "After embedding the time variable (here we assume that the data starts on January 1, 2012), we create the time-covariates that we rescale between -0.5 and 0.5."
      ],
      "metadata": {
        "id": "1AtL_8Jr7BlL"
      }
    },
    {
      "cell_type": "code",
      "source": [
        "df = (df.\n",
        " assign(ds = pd.date_range(start=datetime(2012, 1, 1, 00, 00, 00), freq='1H', periods=len(df)),\n",
        "        month = lambda x: x['ds'].dt.month,\n",
        "        day = lambda x: x['ds'].dt.day,\n",
        "        hour = lambda x: x['ds'].dt.hour,\n",
        "        weekday = lambda x: x['ds'].dt.weekday,\n",
        "        dayofyear = lambda x: x['ds'].dt.dayofyear,\n",
        "        weekofyear = lambda x: x['ds'].dt.isocalendar().reset_index().week))\n",
        "\n",
        "features = ['month', 'day', 'hour', 'weekday', 'dayofyear', 'weekofyear']\n",
        "df[features] = MinMaxScaler(feature_range=(-0.5, 0.5)).fit_transform(df[features])\n",
        "\n",
        "df.head(5)"
      ],
      "metadata": {
        "id": "FoY3-fgWOodC",
        "colab": {
          "base_uri": "https://localhost:8080/",
          "height": 206
        },
        "outputId": "d4d7228f-a10d-4e74-8e3b-751117b99878"
      },
      "execution_count": 5,
      "outputs": [
        {
          "output_type": "execute_result",
          "data": {
            "text/plain": [
              "          y                  ds  month  day      hour  weekday  dayofyear  \\\n",
              "0  0.020933 2012-01-01 00:00:00   -0.5 -0.5 -0.500000      0.5       -0.5   \n",
              "1  0.019333 2012-01-01 01:00:00   -0.5 -0.5 -0.456522      0.5       -0.5   \n",
              "2  0.020200 2012-01-01 02:00:00   -0.5 -0.5 -0.413043      0.5       -0.5   \n",
              "3  0.022450 2012-01-01 03:00:00   -0.5 -0.5 -0.369565      0.5       -0.5   \n",
              "4  0.029283 2012-01-01 04:00:00   -0.5 -0.5 -0.326087      0.5       -0.5   \n",
              "\n",
              "   weekofyear  \n",
              "0         0.5  \n",
              "1         0.5  \n",
              "2         0.5  \n",
              "3         0.5  \n",
              "4         0.5  "
            ],
            "text/html": [
              "\n",
              "  <div id=\"df-80b4f5f9-2101-4662-83cc-818796821a8f\">\n",
              "    <div class=\"colab-df-container\">\n",
              "      <div>\n",
              "<style scoped>\n",
              "    .dataframe tbody tr th:only-of-type {\n",
              "        vertical-align: middle;\n",
              "    }\n",
              "\n",
              "    .dataframe tbody tr th {\n",
              "        vertical-align: top;\n",
              "    }\n",
              "\n",
              "    .dataframe thead th {\n",
              "        text-align: right;\n",
              "    }\n",
              "</style>\n",
              "<table border=\"1\" class=\"dataframe\">\n",
              "  <thead>\n",
              "    <tr style=\"text-align: right;\">\n",
              "      <th></th>\n",
              "      <th>y</th>\n",
              "      <th>ds</th>\n",
              "      <th>month</th>\n",
              "      <th>day</th>\n",
              "      <th>hour</th>\n",
              "      <th>weekday</th>\n",
              "      <th>dayofyear</th>\n",
              "      <th>weekofyear</th>\n",
              "    </tr>\n",
              "  </thead>\n",
              "  <tbody>\n",
              "    <tr>\n",
              "      <th>0</th>\n",
              "      <td>0.020933</td>\n",
              "      <td>2012-01-01 00:00:00</td>\n",
              "      <td>-0.5</td>\n",
              "      <td>-0.5</td>\n",
              "      <td>-0.500000</td>\n",
              "      <td>0.5</td>\n",
              "      <td>-0.5</td>\n",
              "      <td>0.5</td>\n",
              "    </tr>\n",
              "    <tr>\n",
              "      <th>1</th>\n",
              "      <td>0.019333</td>\n",
              "      <td>2012-01-01 01:00:00</td>\n",
              "      <td>-0.5</td>\n",
              "      <td>-0.5</td>\n",
              "      <td>-0.456522</td>\n",
              "      <td>0.5</td>\n",
              "      <td>-0.5</td>\n",
              "      <td>0.5</td>\n",
              "    </tr>\n",
              "    <tr>\n",
              "      <th>2</th>\n",
              "      <td>0.020200</td>\n",
              "      <td>2012-01-01 02:00:00</td>\n",
              "      <td>-0.5</td>\n",
              "      <td>-0.5</td>\n",
              "      <td>-0.413043</td>\n",
              "      <td>0.5</td>\n",
              "      <td>-0.5</td>\n",
              "      <td>0.5</td>\n",
              "    </tr>\n",
              "    <tr>\n",
              "      <th>3</th>\n",
              "      <td>0.022450</td>\n",
              "      <td>2012-01-01 03:00:00</td>\n",
              "      <td>-0.5</td>\n",
              "      <td>-0.5</td>\n",
              "      <td>-0.369565</td>\n",
              "      <td>0.5</td>\n",
              "      <td>-0.5</td>\n",
              "      <td>0.5</td>\n",
              "    </tr>\n",
              "    <tr>\n",
              "      <th>4</th>\n",
              "      <td>0.029283</td>\n",
              "      <td>2012-01-01 04:00:00</td>\n",
              "      <td>-0.5</td>\n",
              "      <td>-0.5</td>\n",
              "      <td>-0.326087</td>\n",
              "      <td>0.5</td>\n",
              "      <td>-0.5</td>\n",
              "      <td>0.5</td>\n",
              "    </tr>\n",
              "  </tbody>\n",
              "</table>\n",
              "</div>\n",
              "      <button class=\"colab-df-convert\" onclick=\"convertToInteractive('df-80b4f5f9-2101-4662-83cc-818796821a8f')\"\n",
              "              title=\"Convert this dataframe to an interactive table.\"\n",
              "              style=\"display:none;\">\n",
              "        \n",
              "  <svg xmlns=\"http://www.w3.org/2000/svg\" height=\"24px\"viewBox=\"0 0 24 24\"\n",
              "       width=\"24px\">\n",
              "    <path d=\"M0 0h24v24H0V0z\" fill=\"none\"/>\n",
              "    <path d=\"M18.56 5.44l.94 2.06.94-2.06 2.06-.94-2.06-.94-.94-2.06-.94 2.06-2.06.94zm-11 1L8.5 8.5l.94-2.06 2.06-.94-2.06-.94L8.5 2.5l-.94 2.06-2.06.94zm10 10l.94 2.06.94-2.06 2.06-.94-2.06-.94-.94-2.06-.94 2.06-2.06.94z\"/><path d=\"M17.41 7.96l-1.37-1.37c-.4-.4-.92-.59-1.43-.59-.52 0-1.04.2-1.43.59L10.3 9.45l-7.72 7.72c-.78.78-.78 2.05 0 2.83L4 21.41c.39.39.9.59 1.41.59.51 0 1.02-.2 1.41-.59l7.78-7.78 2.81-2.81c.8-.78.8-2.07 0-2.86zM5.41 20L4 18.59l7.72-7.72 1.47 1.35L5.41 20z\"/>\n",
              "  </svg>\n",
              "      </button>\n",
              "      \n",
              "  <style>\n",
              "    .colab-df-container {\n",
              "      display:flex;\n",
              "      flex-wrap:wrap;\n",
              "      gap: 12px;\n",
              "    }\n",
              "\n",
              "    .colab-df-convert {\n",
              "      background-color: #E8F0FE;\n",
              "      border: none;\n",
              "      border-radius: 50%;\n",
              "      cursor: pointer;\n",
              "      display: none;\n",
              "      fill: #1967D2;\n",
              "      height: 32px;\n",
              "      padding: 0 0 0 0;\n",
              "      width: 32px;\n",
              "    }\n",
              "\n",
              "    .colab-df-convert:hover {\n",
              "      background-color: #E2EBFA;\n",
              "      box-shadow: 0px 1px 2px rgba(60, 64, 67, 0.3), 0px 1px 3px 1px rgba(60, 64, 67, 0.15);\n",
              "      fill: #174EA6;\n",
              "    }\n",
              "\n",
              "    [theme=dark] .colab-df-convert {\n",
              "      background-color: #3B4455;\n",
              "      fill: #D2E3FC;\n",
              "    }\n",
              "\n",
              "    [theme=dark] .colab-df-convert:hover {\n",
              "      background-color: #434B5C;\n",
              "      box-shadow: 0px 1px 3px 1px rgba(0, 0, 0, 0.15);\n",
              "      filter: drop-shadow(0px 1px 2px rgba(0, 0, 0, 0.3));\n",
              "      fill: #FFFFFF;\n",
              "    }\n",
              "  </style>\n",
              "\n",
              "      <script>\n",
              "        const buttonEl =\n",
              "          document.querySelector('#df-80b4f5f9-2101-4662-83cc-818796821a8f button.colab-df-convert');\n",
              "        buttonEl.style.display =\n",
              "          google.colab.kernel.accessAllowed ? 'block' : 'none';\n",
              "\n",
              "        async function convertToInteractive(key) {\n",
              "          const element = document.querySelector('#df-80b4f5f9-2101-4662-83cc-818796821a8f');\n",
              "          const dataTable =\n",
              "            await google.colab.kernel.invokeFunction('convertToInteractive',\n",
              "                                                     [key], {});\n",
              "          if (!dataTable) return;\n",
              "\n",
              "          const docLinkHtml = 'Like what you see? Visit the ' +\n",
              "            '<a target=\"_blank\" href=https://colab.research.google.com/notebooks/data_table.ipynb>data table notebook</a>'\n",
              "            + ' to learn more about interactive tables.';\n",
              "          element.innerHTML = '';\n",
              "          dataTable['output_type'] = 'display_data';\n",
              "          await google.colab.output.renderOutput(dataTable, element);\n",
              "          const docLink = document.createElement('div');\n",
              "          docLink.innerHTML = docLinkHtml;\n",
              "          element.appendChild(docLink);\n",
              "        }\n",
              "      </script>\n",
              "    </div>\n",
              "  </div>\n",
              "  "
            ]
          },
          "metadata": {},
          "execution_count": 5
        }
      ]
    },
    {
      "cell_type": "markdown",
      "source": [
        "The features are composed of two sets.\n",
        "\n",
        "*   The last `N_PERIOD_OUTPUT` (here 24) target values.\n",
        "*   The time-covariate only for the period t.\n",
        "\n",
        "In our case, we have 6 time-covariate and 24 past target values. Therefore, we have 30 features.\n",
        "\n",
        "Because we implement a multioutput algorithm, the target variable is a 24-N dimensional set."
      ],
      "metadata": {
        "id": "Ca_3zAIz7yRk"
      }
    },
    {
      "cell_type": "code",
      "source": [
        "X, Y = [], []\n",
        "\n",
        "for i in range(N_PERIOD_INPUT, len(df)-N_PERIOD_OUTPUT+1):\n",
        "  X_past_target = np.array(df.loc[i-N_PERIOD_INPUT:i-1, 'y'])\n",
        "  X_time_covariates = np.array(df.loc[i-1, features])\n",
        "  Y_future_target = np.array(df.loc[i:i+N_PERIOD_OUTPUT-1, 'y'])\n",
        "  X_features = np.hstack((X_past_target, X_time_covariates))\n",
        "\n",
        "  Y.append(Y_future_target)\n",
        "  X.append(X_features)"
      ],
      "metadata": {
        "id": "q68WVmrZPE2f"
      },
      "execution_count": 6,
      "outputs": []
    },
    {
      "cell_type": "markdown",
      "source": [
        "We convert the Y and X sets from list to array."
      ],
      "metadata": {
        "id": "tSDY4Yee9De0"
      }
    },
    {
      "cell_type": "code",
      "source": [
        "Y = np.reshape(Y, (len(Y), len(Y[0])))\n",
        "X = np.reshape(X, (len(X), len(X[0])))\n",
        "\n",
        "print(f'Y shape : {Y.shape} - X shape : {X.shape}')"
      ],
      "metadata": {
        "id": "HsbKACD6Thzl",
        "colab": {
          "base_uri": "https://localhost:8080/"
        },
        "outputId": "7e8fa22f-e037-4bd7-f66e-8fb6038961a7"
      },
      "execution_count": 7,
      "outputs": [
        {
          "output_type": "stream",
          "name": "stdout",
          "text": [
            "Y shape : (10513, 24) - X shape : (10513, 30)\n"
          ]
        }
      ]
    },
    {
      "cell_type": "markdown",
      "source": [
        "Now, we can split our sets between train and test. Because we have removed 24 values in the previous loop, the split is a bit shifted."
      ],
      "metadata": {
        "id": "Y1MH_kqq9PYm"
      }
    },
    {
      "cell_type": "code",
      "source": [
        "Y_train = Y[0:CUT_TRAINING-N_PERIOD_INPUT,:].astype('float32')\n",
        "X_train = X[0:CUT_TRAINING-N_PERIOD_INPUT,:].astype('float32')\n",
        "\n",
        "Y_test = Y[CUT_TRAINING-N_PERIOD_INPUT:,:].astype('float32')\n",
        "X_test = X[CUT_TRAINING-N_PERIOD_INPUT:,:].astype('float32')"
      ],
      "metadata": {
        "id": "BsSHvvX0V8mt"
      },
      "execution_count": 8,
      "outputs": []
    },
    {
      "cell_type": "markdown",
      "source": [
        "For reason I do not understand for now, the authors decide to randomly shuffle the train set. We replicate it here."
      ],
      "metadata": {
        "id": "oAbZt4j49mzG"
      }
    },
    {
      "cell_type": "code",
      "source": [
        "order = list(range(0, len(Y_train)))\n",
        "random.shuffle(order)\n",
        "\n",
        "Y_train = Y_train[order]\n",
        "X_train = X_train[order]"
      ],
      "metadata": {
        "id": "alTadX6WbZMS"
      },
      "execution_count": 9,
      "outputs": []
    },
    {
      "cell_type": "markdown",
      "source": [
        "In order to obtain as many values as there are periods in the test sample, we decide to make the predictions each day at time zero, thus recovering 24 periods per day."
      ],
      "metadata": {
        "id": "JeSbl2ec91ry"
      }
    },
    {
      "cell_type": "code",
      "source": [
        "numb_of_days = int((Y_test.shape[0]-1)/24)+1\n",
        "to_select = np.multiply(range(0, numb_of_days), 24)\n",
        "\n",
        "Y_test = Y_test[to_select]\n",
        "X_test = X_test[to_select]"
      ],
      "metadata": {
        "id": "4rC90dNeYO4X"
      },
      "execution_count": 10,
      "outputs": []
    },
    {
      "cell_type": "markdown",
      "metadata": {
        "id": "1r0ORyRx2jRc"
      },
      "source": [
        "Limited by the computational power, I decide to keep the parameters proposed by the authors, which have been optimized on the same dataset as mine but considering 90 time series."
      ]
    },
    {
      "cell_type": "code",
      "execution_count": null,
      "metadata": {
        "id": "yTrb8Lqv0XVq"
      },
      "outputs": [],
      "source": [
        "model = xgb.XGBRegressor(learning_rate=0.2,\n",
        "                          n_estimators=800,\n",
        "                          max_depth=8,\n",
        "                          min_child_weight=1,\n",
        "                          gamma=0.0,\n",
        "                          subsample=0.8, \n",
        "                          colsample_bytree=0.8,\n",
        "                          scale_pos_weight=1,\n",
        "                          seed=42,\n",
        "                          silent=False)\n",
        "\n",
        "xgb_multioutput = MultiOutputRegressor(model).fit(X_train, Y_train)\n",
        "#24 warning messages should be printed"
      ]
    },
    {
      "cell_type": "markdown",
      "source": [
        "Saving the model"
      ],
      "metadata": {
        "id": "x_rMCFUAHh5_"
      }
    },
    {
      "cell_type": "code",
      "source": [
        "pickle.dump(xgb_multioutput, open(\"model/xgb_multioutput.pkl\", 'wb'))"
      ],
      "metadata": {
        "id": "lSP2fr_5GF3S"
      },
      "execution_count": 13,
      "outputs": []
    },
    {
      "cell_type": "markdown",
      "metadata": {
        "id": "Ow25l9rug1JO"
      },
      "source": [
        "## Prophet"
      ]
    },
    {
      "cell_type": "markdown",
      "source": [
        "We create a boolean, named `train`, indicating the train set."
      ],
      "metadata": {
        "id": "kpvHWWFl-3Nu"
      }
    },
    {
      "cell_type": "code",
      "source": [
        "train = np.repeat(False, len(df))\n",
        "train[:CUT_TRAINING] = True"
      ],
      "metadata": {
        "id": "XJeEtez7w7LI"
      },
      "execution_count": 14,
      "outputs": []
    },
    {
      "cell_type": "markdown",
      "source": [
        "We fit a standard Prophet model to our train set."
      ],
      "metadata": {
        "id": "Mx5skO7G_Akw"
      }
    },
    {
      "cell_type": "code",
      "execution_count": null,
      "metadata": {
        "id": "KlEjA-Mb7Tt8"
      },
      "outputs": [],
      "source": [
        "m_Prophet = Prophet(yearly_seasonality=True, weekly_seasonality=True, daily_seasonality=True)\n",
        "\n",
        "m_Prophet.fit(df.loc[train, ['ds', 'y']])"
      ]
    },
    {
      "cell_type": "markdown",
      "metadata": {
        "id": "a06v8aw4kKPW"
      },
      "source": [
        "## Neural Prophet"
      ]
    },
    {
      "cell_type": "markdown",
      "source": [
        "We fit a standard Neural Prophet model to our train set."
      ],
      "metadata": {
        "id": "FoEt57AT_JQd"
      }
    },
    {
      "cell_type": "code",
      "execution_count": null,
      "metadata": {
        "id": "H_6EDsGhsstm"
      },
      "outputs": [],
      "source": [
        "m_NeuralProphet = NeuralProphet(yearly_seasonality=True, weekly_seasonality=True, daily_seasonality=True)\n",
        "\n",
        "m_NeuralProphet.fit(df.loc[train, ['ds', 'y']])"
      ]
    },
    {
      "cell_type": "markdown",
      "source": [
        "# Prediction"
      ],
      "metadata": {
        "id": "ef-QrxAJwdjw"
      }
    },
    {
      "cell_type": "markdown",
      "source": [
        "We compute the predictions on the test sample. The `np.hstack` function allows to convert the multiouput format into an array format. "
      ],
      "metadata": {
        "id": "rBHixYse_O2w"
      }
    },
    {
      "cell_type": "code",
      "source": [
        "df.loc[~train, \"pred_xgb\"] = np.hstack(xgb_multioutput.predict(X_test))\n",
        "df.loc[~train, ['pred_prophet']] = np.array(m_Prophet.predict(df.loc[~train, ['ds']])['yhat'])\n",
        "df.loc[~train, ['pred_neural_prophet']] = np.array(m_NeuralProphet.predict(df.loc[~train, ['ds', 'y']])['yhat1'])"
      ],
      "metadata": {
        "id": "FvPdj4h3we5W"
      },
      "execution_count": null,
      "outputs": []
    },
    {
      "cell_type": "markdown",
      "source": [
        "# Visualisation"
      ],
      "metadata": {
        "id": "VGYfVAJ3uZaB"
      }
    },
    {
      "cell_type": "markdown",
      "source": [
        "By visualizing the results obtained from the test sample, we observe that the XGBoost-based model fits the data much better than Prophet and Neural Prophet."
      ],
      "metadata": {
        "id": "0CMCo1q-_dNC"
      }
    },
    {
      "cell_type": "code",
      "source": [
        "fig, axes = plt.subplots(ncols=3, nrows=1, figsize=(22,4))\n",
        "fig.tight_layout(pad = 3.0)\n",
        "\n",
        "a = sns.lineplot(ax = axes[0], x='ds', y='y', data=df[~train], lw=3, color = \"grey\")\n",
        "a = sns.lineplot(ax = axes[0], x='ds', y='pred_xgb', data=df[~train], color = \"red\")\n",
        "a.set_title('Prediction : XGB')\n",
        "\n",
        "a = sns.lineplot(ax = axes[1], x='ds', y='y', data=df[~train], lw=3, color = \"grey\")\n",
        "a = sns.lineplot(ax = axes[1], x='ds', y='pred_prophet', data=df[~train], color = \"red\")\n",
        "a.set_title('Prediction : Prophet')\n",
        "\n",
        "a = sns.lineplot(ax = axes[2], x='ds', y='y', data=df[~train], lw=3, color = \"grey\")\n",
        "a = sns.lineplot(ax = axes[2], x='ds', y='pred_neural_prophet', data=df[~train], color = \"red\")\n",
        "a.set_title('Prediction : Neural Prophet')"
      ],
      "metadata": {
        "colab": {
          "base_uri": "https://localhost:8080/",
          "height": 181
        },
        "id": "pSF_EgHDr5mX",
        "outputId": "d4ecae4c-8e31-4008-eb88-5196bca6cf82"
      },
      "execution_count": 18,
      "outputs": [
        {
          "output_type": "execute_result",
          "data": {
            "text/plain": [
              "Text(0.5, 1.0, 'Prediction : Neural Prophet')"
            ]
          },
          "metadata": {},
          "execution_count": 18
        },
        {
          "output_type": "display_data",
          "data": {
            "text/plain": [
              "<Figure size 1584x288 with 3 Axes>"
            ],
            "image/png": "[encoded data removed]"
          },
          "metadata": {
            "needs_background": "light"
          }
        }
      ]
    },
    {
      "cell_type": "markdown",
      "source": [
        "# Evaluation"
      ],
      "metadata": {
        "id": "fxqo5qvdubqu"
      }
    },
    {
      "cell_type": "markdown",
      "source": [
        "We define a function allowing us to compute some evaluation statistics."
      ],
      "metadata": {
        "id": "NovdfOSw_wJq"
      }
    },
    {
      "cell_type": "code",
      "source": [
        "def evaluation(true, pred):\n",
        "  MSE = np.mean((true - pred)**2)\n",
        "  MAE = np.mean(np.abs((true - pred)))\n",
        "  MAPE = np.mean((np.abs(true - pred)/np.abs(pred)))\n",
        "  WAPE = np.sum(np.abs(true - pred))/np.sum(np.abs(pred))\n",
        "\n",
        "  return np.array([MSE, MAE, MAPE, WAPE])"
      ],
      "metadata": {
        "id": "5h1w4FKZufWo"
      },
      "execution_count": 19,
      "outputs": []
    },
    {
      "cell_type": "markdown",
      "source": [
        "The XGBoost model is clearly better than the other two."
      ],
      "metadata": {
        "id": "JznKRaFm_zuD"
      }
    },
    {
      "cell_type": "code",
      "source": [
        "pd.DataFrame({'XGB': evaluation(df['y'], df['pred_xgb']),\n",
        "              'Neural_Prophet': evaluation(df['y'], df['pred_neural_prophet']),\n",
        "              'Prophet': evaluation(df['y'], df['pred_prophet'])},\n",
        "             index = ['MSE', 'MAE', 'MAPE', 'WAPE'])"
      ],
      "metadata": {
        "colab": {
          "base_uri": "https://localhost:8080/",
          "height": 175
        },
        "id": "81ZPaX3PvKMy",
        "outputId": "595ce671-5958-4c69-f626-bd1b333481f9"
      },
      "execution_count": 20,
      "outputs": [
        {
          "output_type": "execute_result",
          "data": {
            "text/plain": [
              "           XGB  Neural_Prophet   Prophet\n",
              "MSE   0.000002        0.000080  0.000100\n",
              "MAE   0.000980        0.005432  0.005867\n",
              "MAPE  0.029284        0.143973  0.150244\n",
              "WAPE  0.022280        0.125669  0.133298"
            ],
            "text/html": [
              "\n",
              "  <div id=\"df-dbdf7477-edba-463f-8a14-728093b866a3\">\n",
              "    <div class=\"colab-df-container\">\n",
              "      <div>\n",
              "<style scoped>\n",
              "    .dataframe tbody tr th:only-of-type {\n",
              "        vertical-align: middle;\n",
              "    }\n",
              "\n",
              "    .dataframe tbody tr th {\n",
              "        vertical-align: top;\n",
              "    }\n",
              "\n",
              "    .dataframe thead th {\n",
              "        text-align: right;\n",
              "    }\n",
              "</style>\n",
              "<table border=\"1\" class=\"dataframe\">\n",
              "  <thead>\n",
              "    <tr style=\"text-align: right;\">\n",
              "      <th></th>\n",
              "      <th>XGB</th>\n",
              "      <th>Neural_Prophet</th>\n",
              "      <th>Prophet</th>\n",
              "    </tr>\n",
              "  </thead>\n",
              "  <tbody>\n",
              "    <tr>\n",
              "      <th>MSE</th>\n",
              "      <td>0.000002</td>\n",
              "      <td>0.000080</td>\n",
              "      <td>0.000100</td>\n",
              "    </tr>\n",
              "    <tr>\n",
              "      <th>MAE</th>\n",
              "      <td>0.000980</td>\n",
              "      <td>0.005432</td>\n",
              "      <td>0.005867</td>\n",
              "    </tr>\n",
              "    <tr>\n",
              "      <th>MAPE</th>\n",
              "      <td>0.029284</td>\n",
              "      <td>0.143973</td>\n",
              "      <td>0.150244</td>\n",
              "    </tr>\n",
              "    <tr>\n",
              "      <th>WAPE</th>\n",
              "      <td>0.022280</td>\n",
              "      <td>0.125669</td>\n",
              "      <td>0.133298</td>\n",
              "    </tr>\n",
              "  </tbody>\n",
              "</table>\n",
              "</div>\n",
              "      <button class=\"colab-df-convert\" onclick=\"convertToInteractive('df-dbdf7477-edba-463f-8a14-728093b866a3')\"\n",
              "              title=\"Convert this dataframe to an interactive table.\"\n",
              "              style=\"display:none;\">\n",
              "        \n",
              "  <svg xmlns=\"http://www.w3.org/2000/svg\" height=\"24px\"viewBox=\"0 0 24 24\"\n",
              "       width=\"24px\">\n",
              "    <path d=\"M0 0h24v24H0V0z\" fill=\"none\"/>\n",
              "    <path d=\"M18.56 5.44l.94 2.06.94-2.06 2.06-.94-2.06-.94-.94-2.06-.94 2.06-2.06.94zm-11 1L8.5 8.5l.94-2.06 2.06-.94-2.06-.94L8.5 2.5l-.94 2.06-2.06.94zm10 10l.94 2.06.94-2.06 2.06-.94-2.06-.94-.94-2.06-.94 2.06-2.06.94z\"/><path d=\"M17.41 7.96l-1.37-1.37c-.4-.4-.92-.59-1.43-.59-.52 0-1.04.2-1.43.59L10.3 9.45l-7.72 7.72c-.78.78-.78 2.05 0 2.83L4 21.41c.39.39.9.59 1.41.59.51 0 1.02-.2 1.41-.59l7.78-7.78 2.81-2.81c.8-.78.8-2.07 0-2.86zM5.41 20L4 18.59l7.72-7.72 1.47 1.35L5.41 20z\"/>\n",
              "  </svg>\n",
              "      </button>\n",
              "      \n",
              "  <style>\n",
              "    .colab-df-container {\n",
              "      display:flex;\n",
              "      flex-wrap:wrap;\n",
              "      gap: 12px;\n",
              "    }\n",
              "\n",
              "    .colab-df-convert {\n",
              "      background-color: #E8F0FE;\n",
              "      border: none;\n",
              "      border-radius: 50%;\n",
              "      cursor: pointer;\n",
              "      display: none;\n",
              "      fill: #1967D2;\n",
              "      height: 32px;\n",
              "      padding: 0 0 0 0;\n",
              "      width: 32px;\n",
              "    }\n",
              "\n",
              "    .colab-df-convert:hover {\n",
              "      background-color: #E2EBFA;\n",
              "      box-shadow: 0px 1px 2px rgba(60, 64, 67, 0.3), 0px 1px 3px 1px rgba(60, 64, 67, 0.15);\n",
              "      fill: #174EA6;\n",
              "    }\n",
              "\n",
              "    [theme=dark] .colab-df-convert {\n",
              "      background-color: #3B4455;\n",
              "      fill: #D2E3FC;\n",
              "    }\n",
              "\n",
              "    [theme=dark] .colab-df-convert:hover {\n",
              "      background-color: #434B5C;\n",
              "      box-shadow: 0px 1px 3px 1px rgba(0, 0, 0, 0.15);\n",
              "      filter: drop-shadow(0px 1px 2px rgba(0, 0, 0, 0.3));\n",
              "      fill: #FFFFFF;\n",
              "    }\n",
              "  </style>\n",
              "\n",
              "      <script>\n",
              "        const buttonEl =\n",
              "          document.querySelector('#df-dbdf7477-edba-463f-8a14-728093b866a3 button.colab-df-convert');\n",
              "        buttonEl.style.display =\n",
              "          google.colab.kernel.accessAllowed ? 'block' : 'none';\n",
              "\n",
              "        async function convertToInteractive(key) {\n",
              "          const element = document.querySelector('#df-dbdf7477-edba-463f-8a14-728093b866a3');\n",
              "          const dataTable =\n",
              "            await google.colab.kernel.invokeFunction('convertToInteractive',\n",
              "                                                     [key], {});\n",
              "          if (!dataTable) return;\n",
              "\n",
              "          const docLinkHtml = 'Like what you see? Visit the ' +\n",
              "            '<a target=\"_blank\" href=https://colab.research.google.com/notebooks/data_table.ipynb>data table notebook</a>'\n",
              "            + ' to learn more about interactive tables.';\n",
              "          element.innerHTML = '';\n",
              "          dataTable['output_type'] = 'display_data';\n",
              "          await google.colab.output.renderOutput(dataTable, element);\n",
              "          const docLink = document.createElement('div');\n",
              "          docLink.innerHTML = docLinkHtml;\n",
              "          element.appendChild(docLink);\n",
              "        }\n",
              "      </script>\n",
              "    </div>\n",
              "  </div>\n",
              "  "
            ]
          },
          "metadata": {},
          "execution_count": 20
        }
      ]
    }
  ],
  "metadata": {
    "colab": {
      "collapsed_sections": [],
      "name": "xgboost_for_ts_application.ipynb",
      "provenance": []
    },
    "kernelspec": {
      "display_name": "Python 3",
      "name": "python3"
    },
    "language_info": {
      "name": "python"
    }
  },
  "nbformat": 4,
  "nbformat_minor": 0
}